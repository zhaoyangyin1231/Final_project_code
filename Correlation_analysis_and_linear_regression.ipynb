{
  "cells": [
    {
      "cell_type": "code",
      "execution_count": null,
      "metadata": {
        "id": "UOxqzUqBbxnM"
      },
      "outputs": [],
      "source": [
        "import re\n",
        "import pandas as pd \n",
        "import numpy as np \n",
        "import matplotlib.pyplot as plt \n",
        "import seaborn as sns\n",
        "import string\n",
        "import nltk\n",
        "from wordcloud import WordCloud\n",
        "\n",
        "from sklearn.linear_model import LogisticRegression\n",
        "from sklearn.model_selection import train_test_split\n",
        "from sklearn.metrics import f1_score\n",
        "from sklearn.metrics import classification_report\n",
        "from sklearn.feature_extraction.text import TfidfVectorizer\n",
        "from sklearn.feature_extraction.text import TfidfTransformer\n",
        "from sklearn.feature_extraction.text import CountVectorizer\n",
        "from scipy.sparse import coo_matrix\n",
        "\n",
        "from sklearn.metrics import classification_report\n",
        "from sklearn.linear_model import LogisticRegression\n",
        "from sklearn.ensemble import RandomForestClassifier\n",
        "from sklearn.tree import DecisionTreeClassifier\n",
        "from sklearn import svm\n",
        "from sklearn import neighbors\n",
        "from sklearn.naive_bayes import MultinomialNB\n",
        "import pandas as pd\n",
        "import matplotlib.pyplot as plt\n",
        "import numpy as np\n",
        "import seaborn as sns\n",
        "import scipy.stats as stats\n",
        "import statsmodels.api as sm\n",
        "from scipy.stats import chi2_contingency\n",
        "from sklearn.metrics import mean_squared_error as s_mean_squared_error\n",
        "from sklearn.metrics import mean_absolute_error as s_mean_absolute_error\n",
        "from sklearn.metrics import r2_score as s_r2_score"
      ]
    },
    {
      "cell_type": "code",
      "execution_count": null,
      "metadata": {
        "id": "tRys_uOHb0XC"
      },
      "outputs": [],
      "source": [
        "df = pd.read_csv(\"data_final_ad.csv\")"
      ]
    },
    {
      "cell_type": "code",
      "source": [
        "from sklearn import datasets\n",
        "\n",
        "x = df[\"gas\"]\n",
        "y = df[\"power\"]\n",
        "\n",
        "x.shape\n",
        "y.shape\n",
        "print(type(x))\n",
        "print(type(y))\n",
        "plt.figure()\n",
        "plt.scatter(x, y, color='steelblue')\n",
        "plt.show()"
      ],
      "metadata": {
        "colab": {
          "base_uri": "https://localhost:8080/"
        },
        "id": "oPFxvIxKSvjp",
        "outputId": "e194627d-1d62-42c2-f00b-3d5acffaa07d"
      },
      "execution_count": null,
      "outputs": [
        {
          "output_type": "stream",
          "name": "stdout",
          "text": [
            "<class 'pandas.core.series.Series'>\n",
            "<class 'pandas.core.series.Series'>\n"
          ]
        }
      ]
    },
    {
      "cell_type": "code",
      "source": [
        "class MY_SimpleLinearRegression_2:\n",
        "    \n",
        "    def __init__(self):\n",
        "        self.a_ = None\n",
        "        self.b_ = None\n",
        "        \n",
        "    def fit(self, x_train, y_train):\n",
        "        assert x_train.ndim == 1, 'Simple linear regression fits only one feature'\n",
        "        assert x_train.shape[0] == y_train.shape[0], 'x and y must be the same length'\n",
        "        \n",
        "        x_mean = np.mean(x_train)\n",
        "        y_mean = np.mean(y_train)\n",
        "        \n",
        "        self.a_ = (x_train - x_mean).dot(y_train - y_mean) / (x_train - x_mean).dot(x_train - x_mean)\n",
        "        self.b_ = y_mean - self.a_ * x_mean\n",
        "        \n",
        "        return self\n",
        "    \n",
        "    def _predict(self, x_single):\n",
        "        return self.a_ * x_single + self.b_\n",
        "    \n",
        "    def predict(self, x_predict):\n",
        "        assert x_predict.ndim == 1, \n",
        "        # assert self.a_ isnotNone\n",
        "        #  and self.b_ isnotNone, \n",
        "        \n",
        "        return np.array([self._predict(x) for x in x_predict])\n",
        "    \n",
        "    def __repr__(self):\n",
        "        return'MY_SimpleLinearRegression_2()'"
      ],
      "metadata": {
        "id": "IIXNF5_3UYN8"
      },
      "execution_count": null,
      "outputs": []
    },
    {
      "cell_type": "code",
      "source": [
        "from sklearn.model_selection import train_test_split\n",
        "\n",
        "x_train, x_test, y_train, y_test = train_test_split(x, y, test_size = 0.2, random_state = 666)\n",
        "\n",
        "x_train.shape\n",
        "x_test.shape\n",
        "y_train.shape\n",
        "y_test.shape\n",
        "my_SLR_2 = MY_SimpleLinearRegression_2()\n",
        "my_SLR_2.fit(x_train, y_train)\n",
        "\n",
        "my_SLR_2.a_\n",
        "my_SLR_2.b_\n",
        "\n",
        "y_train_predict = my_SLR_2.predict(x_train)\n",
        "\n",
        "plt.figure()\n",
        "plt.plot(x_train, y_train_predict, color='r',)\n",
        "plt.scatter(x_train, y_train, color='b',)\n",
        "plt.xlabel(\"Gas Price (USD/Liter)\")\n",
        "plt.ylabel(\"Coal Price (TEUR/MWH)\")\n",
        "\n",
        "plt.show()"
      ],
      "metadata": {
        "colab": {
          "base_uri": "https://localhost:8080/",
          "height": 279
        },
        "id": "Tx9HnStATW-_",
        "outputId": "765657fc-1240-4329-b21a-61d185d12fad"
      },
      "execution_count": null,
      "outputs": [
        {
          "output_type": "display_data",
          "data": {
            "text/plain": [
              "<Figure size 432x288 with 1 Axes>"
            ],
            "image/png": "[encoded data removed]"
          },
          "metadata": {
            "needs_background": "light"
          }
        }
      ]
    },
    {
      "cell_type": "code",
      "source": [
        "# analysis metrics\n",
        "\n",
        "# mse\n",
        "y_test_predict = my_SLR_2.predict(x_test)\n",
        "mse_test = np.sum((y_test - y_test_predict) ** 2) / len(y_test)\n",
        "mse_test "
      ],
      "metadata": {
        "colab": {
          "base_uri": "https://localhost:8080/"
        },
        "id": "IRstHzzoUyEH",
        "outputId": "07bdaeb1-a024-4f10-c8bc-6fe693e2b077"
      },
      "execution_count": null,
      "outputs": [
        {
          "output_type": "execute_result",
          "data": {
            "text/plain": [
              "0.004169589754905346"
            ]
          },
          "metadata": {},
          "execution_count": 46
        }
      ]
    },
    {
      "cell_type": "code",
      "source": [
        "# rmse\n",
        "rmse_test = np.sqrt(np.sum((y_test - y_test_predict) ** 2) / len(y_test))\n",
        "rmse_test"
      ],
      "metadata": {
        "id": "tOffB2YaUyKo",
        "colab": {
          "base_uri": "https://localhost:8080/"
        },
        "outputId": "ea240ed2-20f0-401e-c22e-f4b5bf3b20ef"
      },
      "execution_count": null,
      "outputs": [
        {
          "output_type": "execute_result",
          "data": {
            "text/plain": [
              "0.0645723606112193"
            ]
          },
          "metadata": {},
          "execution_count": 47
        }
      ]
    },
    {
      "cell_type": "code",
      "source": [
        "# mae\n",
        "mae_test = np.sum(np.abs(y_test - y_test_predict)) / len(y_test)\n",
        "mae_test "
      ],
      "metadata": {
        "colab": {
          "base_uri": "https://localhost:8080/"
        },
        "id": "_9AjMeEw_MeO",
        "outputId": "8d578ca9-c0a2-471e-a3f4-da1ea79bc95a"
      },
      "execution_count": null,
      "outputs": [
        {
          "output_type": "execute_result",
          "data": {
            "text/plain": [
              "0.05499600263327323"
            ]
          },
          "metadata": {},
          "execution_count": 48
        }
      ]
    },
    {
      "cell_type": "code",
      "source": [
        "R2_1 = 1 - np.sum((y_test - y_test_predict) ** 2) / (y_test - np.mean(y_test)).dot(y_test - np.mean(y_test))\n",
        "R2_1 \n",
        "\n",
        "# R2_2 = 1 - (np.sum((y_test - y_test_predict) ** 2)/len(y_test)) / np.var(y_test)\n",
        "# R2_2 "
      ],
      "metadata": {
        "colab": {
          "base_uri": "https://localhost:8080/"
        },
        "id": "Whdqyoyj_TMb",
        "outputId": "2d9a6a0d-48ac-49bc-86ba-a390b773de1f"
      },
      "execution_count": null,
      "outputs": [
        {
          "output_type": "execute_result",
          "data": {
            "text/plain": [
              "0.7659950320775084"
            ]
          },
          "metadata": {},
          "execution_count": 49
        }
      ]
    },
    {
      "cell_type": "code",
      "source": [
        "# mae\n",
        "s_mean_absolute_error(y_test, y_test_predict)  \n"
      ],
      "metadata": {
        "colab": {
          "base_uri": "https://localhost:8080/"
        },
        "id": "oZpIZrMRGdr3",
        "outputId": "c49b3340-a485-4087-8925-60f2ee585e21"
      },
      "execution_count": null,
      "outputs": [
        {
          "output_type": "execute_result",
          "data": {
            "text/plain": [
              "13.234109333244119"
            ]
          },
          "metadata": {},
          "execution_count": 40
        }
      ]
    },
    {
      "cell_type": "code",
      "source": [
        "# \n",
        "\n",
        "examDf = df\n",
        "# extrate features and labels\n",
        "# features\n",
        "exam_X=examDf.loc[:,'gas']\n",
        "# labes\n",
        "exam_y=examDf.loc[:,'power']\n",
        "\n",
        "# plot scatter plot\n",
        "import matplotlib.pyplot as plt\n",
        "plt.scatter(exam_X,exam_y,color='b',label='exam data')\n",
        "plt.xlabel(\"Gas Price (USD/Liter)\")\n",
        "plt.ylabel(\"Power Price (TEUR/MWH)\")\n",
        "plt.show()"
      ],
      "metadata": {
        "colab": {
          "base_uri": "https://localhost:8080/",
          "height": 279
        },
        "id": "UQmMv7BW4fsc",
        "outputId": "c597da6b-4e11-4578-a88c-a89623134218"
      },
      "execution_count": null,
      "outputs": [
        {
          "output_type": "display_data",
          "data": {
            "text/plain": [
              "<Figure size 432x288 with 1 Axes>"
            ],
            "image/png": "[encoded data removed]"
          },
          "metadata": {
            "needs_background": "light"
          }
        }
      ]
    },
    {
      "cell_type": "code",
      "source": [
        "from sklearn.model_selection  import train_test_split\n",
        "# split train test set\n",
        "X_train,X_test,y_train,y_test=train_test_split(exam_X,exam_y, train_size=0.75)\n",
        "\n",
        "# print('original：',exam_X.shape,\n",
        "#      ' train data',X_train.shape,\n",
        "#     ' test data',X_test.shape)\n",
        "# print('original：',exam_y.shape,\n",
        "#      ' train data',y_train.shape,\n",
        "#      ' test data',y_test.shape)"
      ],
      "metadata": {
        "id": "Feq3Jtg-4fyK"
      },
      "execution_count": null,
      "outputs": []
    },
    {
      "cell_type": "code",
      "source": [
        "# plot\n",
        "import matplotlib.pyplot as plt\n",
        "\n",
        "# red: test data / blue: train data\n",
        "plt.scatter(X_train,y_train,color='blue',label='train data')\n",
        "plt.scatter(X_test,y_test,color='red',label='test data')\n",
        "plt.legend(loc=2)\n",
        "plt.xlabel(\"Gas Price (USD/Liter)\")\n",
        "plt.ylabel(\"Power Price (TEUR/MWH)\")\n",
        "plt.show()"
      ],
      "metadata": {
        "colab": {
          "base_uri": "https://localhost:8080/",
          "height": 279
        },
        "id": "Ij10JTQ-4f3M",
        "outputId": "a3e7cbaf-30a5-485f-aa7b-64707fba2165"
      },
      "execution_count": null,
      "outputs": [
        {
          "output_type": "display_data",
          "data": {
            "text/plain": [
              "<Figure size 432x288 with 1 Axes>"
            ],
            "image/png": "[encoded data removed]"
          },
          "metadata": {
            "needs_background": "light"
          }
        }
      ]
    },
    {
      "cell_type": "code",
      "source": [
        "# find linear equation\n",
        "\n",
        "# Convert training data features into a 2D array\n",
        "X_train=X_train.values.reshape(-1,1)\n",
        "# Convert test data features into a 2D array\n",
        "X_test=X_test.values.reshape(-1,1)\n",
        "\n",
        "# Step 1: Import Linear Regression\n",
        "from sklearn.linear_model import LinearRegression\n",
        "# Step 2: Create the Model: Linear Regression\n",
        "model=LinearRegression()\n",
        "# Step 3: Train the model\n",
        "model.fit(X_train,y_train)\n",
        "a=model.intercept_\n",
        "b=model.coef_\n"
      ],
      "metadata": {
        "id": "Y9S3dE6L4f6N"
      },
      "execution_count": null,
      "outputs": []
    },
    {
      "cell_type": "code",
      "source": [
        "# Correlation coefficient: The result returned by corr is a data frame, which stores the correlation coefficient matrix\n",
        "# rDf=examDf[[\"wind\", \"power\"]].corr()\n",
        "rDf=examDf.corr()\n",
        "print('Correlation coefficient matrix：')\n",
        "print(rDf)\n",
        "\n",
        "model.score(X_test,y_test)"
      ],
      "metadata": {
        "colab": {
          "base_uri": "https://localhost:8080/"
        },
        "id": "CZWqMyx1SZy7",
        "outputId": "fb2faea8-a7f6-4b0a-f429-2bd0be241341"
      },
      "execution_count": null,
      "outputs": [
        {
          "output_type": "stream",
          "name": "stdout",
          "text": [
            "Correlation coefficient matrix：\n",
            "             Unnamed: 0      wind      coal      fuel  temperature     power  \\\n",
            "Unnamed: 0     1.000000 -0.628386  0.950902  0.844207    -0.091545  0.858642   \n",
            "wind          -0.628386  1.000000 -0.621048 -0.524021    -0.017028 -0.596917   \n",
            "coal           0.950902 -0.621048  1.000000  0.819688    -0.036918  0.832695   \n",
            "fuel           0.844207 -0.524021  0.819688  1.000000    -0.177273  0.878708   \n",
            "temperature   -0.091545 -0.017028 -0.036918 -0.177273     1.000000 -0.094104   \n",
            "power          0.858642 -0.596917  0.832695  0.878708    -0.094104  1.000000   \n",
            "coal.1         0.950902 -0.621048  1.000000  0.819688    -0.036918  0.832695   \n",
            "wind.1        -0.628386  1.000000 -0.621048 -0.524021    -0.017028 -0.596917   \n",
            "gas            0.921100 -0.502438  0.909304  0.905633    -0.203522  0.818394   \n",
            "\n",
            "               coal.1    wind.1       gas  \n",
            "Unnamed: 0   0.950902 -0.628386  0.921100  \n",
            "wind        -0.621048  1.000000 -0.502438  \n",
            "coal         1.000000 -0.621048  0.909304  \n",
            "fuel         0.819688 -0.524021  0.905633  \n",
            "temperature -0.036918 -0.017028 -0.203522  \n",
            "power        0.832695 -0.596917  0.818394  \n",
            "coal.1       1.000000 -0.621048  0.909304  \n",
            "wind.1      -0.621048  1.000000 -0.502438  \n",
            "gas          0.909304 -0.502438  1.000000  \n"
          ]
        },
        {
          "output_type": "execute_result",
          "data": {
            "text/plain": [
              "0.6806039356287041"
            ]
          },
          "metadata": {},
          "execution_count": 23
        }
      ]
    }
  ],
  "metadata": {
    "colab": {
      "collapsed_sections": [],
      "provenance": []
    },
    "kernelspec": {
      "display_name": "Python 3",
      "name": "python3"
    },
    "language_info": {
      "name": "python"
    }
  },
  "nbformat": 4,
  "nbformat_minor": 0
}