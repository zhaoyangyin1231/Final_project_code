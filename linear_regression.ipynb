{
  "cells": [
    {
      "cell_type": "code",
      "execution_count": null,
      "metadata": {
        "id": "UOxqzUqBbxnM"
      },
      "outputs": [],
      "source": [
        "import re\n",
        "import pandas as pd \n",
        "import numpy as np \n",
        "import matplotlib.pyplot as plt \n",
        "import seaborn as sns\n",
        "import string\n",
        "import nltk\n",
        "from wordcloud import WordCloud\n",
        "\n",
        "from sklearn.linear_model import LogisticRegression\n",
        "from sklearn.model_selection import train_test_split\n",
        "from sklearn.metrics import f1_score\n",
        "from sklearn.metrics import classification_report\n",
        "from sklearn.feature_extraction.text import TfidfVectorizer\n",
        "from sklearn.feature_extraction.text import TfidfTransformer\n",
        "from sklearn.feature_extraction.text import CountVectorizer\n",
        "from scipy.sparse import coo_matrix\n",
        "\n",
        "from sklearn.metrics import classification_report\n",
        "from sklearn.linear_model import LogisticRegression\n",
        "from sklearn.ensemble import RandomForestClassifier\n",
        "from sklearn.tree import DecisionTreeClassifier\n",
        "from sklearn import svm\n",
        "from sklearn import neighbors\n",
        "from sklearn.naive_bayes import MultinomialNB\n",
        "from sklearn.metrics import r2_score, explained_variance_score as EVS, mean_squared_error as MSE\n",
        "import pandas as pd\n",
        "import matplotlib.pyplot as plt\n",
        "import numpy as np\n",
        "import seaborn as sns\n",
        "import scipy.stats as stats\n",
        "import statsmodels.api as sm\n",
        "from scipy.stats import chi2_contingency"
      ]
    },
    {
      "cell_type": "code",
      "execution_count": null,
      "metadata": {
        "id": "tRys_uOHb0XC"
      },
      "outputs": [],
      "source": [
        "# df = pd.read_csv(\"data_tidy_price_coal.csv\")\n",
        "df = pd.read_csv(\"data_final.csv\")"
      ]
    },
    {
      "cell_type": "code",
      "source": [
        "df"
      ],
      "metadata": {
        "colab": {
          "base_uri": "https://localhost:8080/",
          "height": 424
        },
        "id": "8BP8Viz2kUwm",
        "outputId": "1dc81f98-a03b-46bd-effb-212bd3b0ab1e"
      },
      "execution_count": null,
      "outputs": [
        {
          "output_type": "execute_result",
          "data": {
            "text/plain": [
              "     Unnamed: 0   wind    coal  fuel  temperature  power\n",
              "0             0  12.00   84.00  1.63        -1.00   2.50\n",
              "1             1  12.21   84.42  1.62        -1.21   2.20\n",
              "2             2  12.42   84.85  1.61        -1.42   2.05\n",
              "3             3  12.64   85.27  1.60        -1.64   1.85\n",
              "4             4  12.85   85.70  1.59        -1.85   1.76\n",
              "..          ...    ...     ...   ...          ...    ...\n",
              "128         128   6.15  159.00  2.23         4.45  26.30\n",
              "129         129   6.36  159.00  2.28         5.09  33.20\n",
              "130         130   6.58  159.00  2.32         5.73  32.20\n",
              "131         131   6.79  159.00  2.37         6.36  31.60\n",
              "132         132   7.00  159.00  2.41         7.00  32.00\n",
              "\n",
              "[133 rows x 6 columns]"
            ],
            "text/html": [
              "\n",
              "  <div id=\"df-0af8f27d-3718-4717-a157-6a86b9545fd7\">\n",
              "    <div class=\"colab-df-container\">\n",
              "      <div>\n",
              "<style scoped>\n",
              "    .dataframe tbody tr th:only-of-type {\n",
              "        vertical-align: middle;\n",
              "    }\n",
              "\n",
              "    .dataframe tbody tr th {\n",
              "        vertical-align: top;\n",
              "    }\n",
              "\n",
              "    .dataframe thead th {\n",
              "        text-align: right;\n",
              "    }\n",
              "</style>\n",
              "<table border=\"1\" class=\"dataframe\">\n",
              "  <thead>\n",
              "    <tr style=\"text-align: right;\">\n",
              "      <th></th>\n",
              "      <th>Unnamed: 0</th>\n",
              "      <th>wind</th>\n",
              "      <th>coal</th>\n",
              "      <th>fuel</th>\n",
              "      <th>temperature</th>\n",
              "      <th>power</th>\n",
              "    </tr>\n",
              "  </thead>\n",
              "  <tbody>\n",
              "    <tr>\n",
              "      <th>0</th>\n",
              "      <td>0</td>\n",
              "      <td>12.00</td>\n",
              "      <td>84.00</td>\n",
              "      <td>1.63</td>\n",
              "      <td>-1.00</td>\n",
              "      <td>2.50</td>\n",
              "    </tr>\n",
              "    <tr>\n",
              "      <th>1</th>\n",
              "      <td>1</td>\n",
              "      <td>12.21</td>\n",
              "      <td>84.42</td>\n",
              "      <td>1.62</td>\n",
              "      <td>-1.21</td>\n",
              "      <td>2.20</td>\n",
              "    </tr>\n",
              "    <tr>\n",
              "      <th>2</th>\n",
              "      <td>2</td>\n",
              "      <td>12.42</td>\n",
              "      <td>84.85</td>\n",
              "      <td>1.61</td>\n",
              "      <td>-1.42</td>\n",
              "      <td>2.05</td>\n",
              "    </tr>\n",
              "    <tr>\n",
              "      <th>3</th>\n",
              "      <td>3</td>\n",
              "      <td>12.64</td>\n",
              "      <td>85.27</td>\n",
              "      <td>1.60</td>\n",
              "      <td>-1.64</td>\n",
              "      <td>1.85</td>\n",
              "    </tr>\n",
              "    <tr>\n",
              "      <th>4</th>\n",
              "      <td>4</td>\n",
              "      <td>12.85</td>\n",
              "      <td>85.70</td>\n",
              "      <td>1.59</td>\n",
              "      <td>-1.85</td>\n",
              "      <td>1.76</td>\n",
              "    </tr>\n",
              "    <tr>\n",
              "      <th>...</th>\n",
              "      <td>...</td>\n",
              "      <td>...</td>\n",
              "      <td>...</td>\n",
              "      <td>...</td>\n",
              "      <td>...</td>\n",
              "      <td>...</td>\n",
              "    </tr>\n",
              "    <tr>\n",
              "      <th>128</th>\n",
              "      <td>128</td>\n",
              "      <td>6.15</td>\n",
              "      <td>159.00</td>\n",
              "      <td>2.23</td>\n",
              "      <td>4.45</td>\n",
              "      <td>26.30</td>\n",
              "    </tr>\n",
              "    <tr>\n",
              "      <th>129</th>\n",
              "      <td>129</td>\n",
              "      <td>6.36</td>\n",
              "      <td>159.00</td>\n",
              "      <td>2.28</td>\n",
              "      <td>5.09</td>\n",
              "      <td>33.20</td>\n",
              "    </tr>\n",
              "    <tr>\n",
              "      <th>130</th>\n",
              "      <td>130</td>\n",
              "      <td>6.58</td>\n",
              "      <td>159.00</td>\n",
              "      <td>2.32</td>\n",
              "      <td>5.73</td>\n",
              "      <td>32.20</td>\n",
              "    </tr>\n",
              "    <tr>\n",
              "      <th>131</th>\n",
              "      <td>131</td>\n",
              "      <td>6.79</td>\n",
              "      <td>159.00</td>\n",
              "      <td>2.37</td>\n",
              "      <td>6.36</td>\n",
              "      <td>31.60</td>\n",
              "    </tr>\n",
              "    <tr>\n",
              "      <th>132</th>\n",
              "      <td>132</td>\n",
              "      <td>7.00</td>\n",
              "      <td>159.00</td>\n",
              "      <td>2.41</td>\n",
              "      <td>7.00</td>\n",
              "      <td>32.00</td>\n",
              "    </tr>\n",
              "  </tbody>\n",
              "</table>\n",
              "<p>133 rows × 6 columns</p>\n",
              "</div>\n",
              "      <button class=\"colab-df-convert\" onclick=\"convertToInteractive('df-0af8f27d-3718-4717-a157-6a86b9545fd7')\"\n",
              "              title=\"Convert this dataframe to an interactive table.\"\n",
              "              style=\"display:none;\">\n",
              "        \n",
              "  <svg xmlns=\"http://www.w3.org/2000/svg\" height=\"24px\"viewBox=\"0 0 24 24\"\n",
              "       width=\"24px\">\n",
              "    <path d=\"M0 0h24v24H0V0z\" fill=\"none\"/>\n",
              "    <path d=\"M18.56 5.44l.94 2.06.94-2.06 2.06-.94-2.06-.94-.94-2.06-.94 2.06-2.06.94zm-11 1L8.5 8.5l.94-2.06 2.06-.94-2.06-.94L8.5 2.5l-.94 2.06-2.06.94zm10 10l.94 2.06.94-2.06 2.06-.94-2.06-.94-.94-2.06-.94 2.06-2.06.94z\"/><path d=\"M17.41 7.96l-1.37-1.37c-.4-.4-.92-.59-1.43-.59-.52 0-1.04.2-1.43.59L10.3 9.45l-7.72 7.72c-.78.78-.78 2.05 0 2.83L4 21.41c.39.39.9.59 1.41.59.51 0 1.02-.2 1.41-.59l7.78-7.78 2.81-2.81c.8-.78.8-2.07 0-2.86zM5.41 20L4 18.59l7.72-7.72 1.47 1.35L5.41 20z\"/>\n",
              "  </svg>\n",
              "      </button>\n",
              "      \n",
              "  <style>\n",
              "    .colab-df-container {\n",
              "      display:flex;\n",
              "      flex-wrap:wrap;\n",
              "      gap: 12px;\n",
              "    }\n",
              "\n",
              "    .colab-df-convert {\n",
              "      background-color: #E8F0FE;\n",
              "      border: none;\n",
              "      border-radius: 50%;\n",
              "      cursor: pointer;\n",
              "      display: none;\n",
              "      fill: #1967D2;\n",
              "      height: 32px;\n",
              "      padding: 0 0 0 0;\n",
              "      width: 32px;\n",
              "    }\n",
              "\n",
              "    .colab-df-convert:hover {\n",
              "      background-color: #E2EBFA;\n",
              "      box-shadow: 0px 1px 2px rgba(60, 64, 67, 0.3), 0px 1px 3px 1px rgba(60, 64, 67, 0.15);\n",
              "      fill: #174EA6;\n",
              "    }\n",
              "\n",
              "    [theme=dark] .colab-df-convert {\n",
              "      background-color: #3B4455;\n",
              "      fill: #D2E3FC;\n",
              "    }\n",
              "\n",
              "    [theme=dark] .colab-df-convert:hover {\n",
              "      background-color: #434B5C;\n",
              "      box-shadow: 0px 1px 3px 1px rgba(0, 0, 0, 0.15);\n",
              "      filter: drop-shadow(0px 1px 2px rgba(0, 0, 0, 0.3));\n",
              "      fill: #FFFFFF;\n",
              "    }\n",
              "  </style>\n",
              "\n",
              "      <script>\n",
              "        const buttonEl =\n",
              "          document.querySelector('#df-0af8f27d-3718-4717-a157-6a86b9545fd7 button.colab-df-convert');\n",
              "        buttonEl.style.display =\n",
              "          google.colab.kernel.accessAllowed ? 'block' : 'none';\n",
              "\n",
              "        async function convertToInteractive(key) {\n",
              "          const element = document.querySelector('#df-0af8f27d-3718-4717-a157-6a86b9545fd7');\n",
              "          const dataTable =\n",
              "            await google.colab.kernel.invokeFunction('convertToInteractive',\n",
              "                                                     [key], {});\n",
              "          if (!dataTable) return;\n",
              "\n",
              "          const docLinkHtml = 'Like what you see? Visit the ' +\n",
              "            '<a target=\"_blank\" href=https://colab.research.google.com/notebooks/data_table.ipynb>data table notebook</a>'\n",
              "            + ' to learn more about interactive tables.';\n",
              "          element.innerHTML = '';\n",
              "          dataTable['output_type'] = 'display_data';\n",
              "          await google.colab.output.renderOutput(dataTable, element);\n",
              "          const docLink = document.createElement('div');\n",
              "          docLink.innerHTML = docLinkHtml;\n",
              "          element.appendChild(docLink);\n",
              "        }\n",
              "      </script>\n",
              "    </div>\n",
              "  </div>\n",
              "  "
            ]
          },
          "metadata": {},
          "execution_count": 7
        }
      ]
    },
    {
      "cell_type": "code",
      "source": [
        "fit=sm.formula.ols('power~fuel',data=ccpp).fit()\n",
        "print(fit.params)#Intercept：-8973.357442,coal:1.320706"
      ],
      "metadata": {
        "colab": {
          "base_uri": "https://localhost:8080/"
        },
        "id": "GhQElh5DV3ii",
        "outputId": "fffddbe5-4542-4e4f-e5dd-509528fb6b74"
      },
      "execution_count": null,
      "outputs": [
        {
          "output_type": "stream",
          "name": "stdout",
          "text": [
            "Intercept   -39.908695\n",
            "fuel         29.906793\n",
            "dtype: float64\n"
          ]
        }
      ]
    },
    {
      "cell_type": "code",
      "source": [
        "print(fit.summary())"
      ],
      "metadata": {
        "colab": {
          "base_uri": "https://localhost:8080/"
        },
        "id": "xhQ5JKoPj4Pf",
        "outputId": "c232496b-6e3a-4df1-c71b-0e04efd93e54"
      },
      "execution_count": null,
      "outputs": [
        {
          "output_type": "stream",
          "name": "stdout",
          "text": [
            "                            OLS Regression Results                            \n",
            "==============================================================================\n",
            "Dep. Variable:                  power   R-squared:                       0.772\n",
            "Model:                            OLS   Adj. R-squared:                  0.770\n",
            "Method:                 Least Squares   F-statistic:                     443.9\n",
            "Date:                Fri, 09 Sep 2022   Prob (F-statistic):           6.71e-44\n",
            "Time:                        09:31:45   Log-Likelihood:                -368.70\n",
            "No. Observations:                 133   AIC:                             741.4\n",
            "Df Residuals:                     131   BIC:                             747.2\n",
            "Df Model:                           1                                         \n",
            "Covariance Type:            nonrobust                                         \n",
            "==============================================================================\n",
            "                 coef    std err          t      P>|t|      [0.025      0.975]\n",
            "------------------------------------------------------------------------------\n",
            "Intercept    -39.9087      2.343    -17.036      0.000     -44.543     -35.274\n",
            "fuel          29.9068      1.420     21.069      0.000      27.099      32.715\n",
            "==============================================================================\n",
            "Omnibus:                       43.973   Durbin-Watson:                   0.871\n",
            "Prob(Omnibus):                  0.000   Jarque-Bera (JB):              127.366\n",
            "Skew:                           1.242   Prob(JB):                     2.20e-28\n",
            "Kurtosis:                       7.100   Cond. No.                         15.6\n",
            "==============================================================================\n",
            "\n",
            "Notes:\n",
            "[1] Standard Errors assume that the covariance matrix of the errors is correctly specified.\n"
          ]
        }
      ]
    },
    {
      "cell_type": "code",
      "source": [
        "fit=sm.formula.ols('power~fuel+coal+wind',data=df).fit()\n",
        "print(fit.params)"
      ],
      "metadata": {
        "colab": {
          "base_uri": "https://localhost:8080/"
        },
        "id": "KqE0FXhWonxM",
        "outputId": "25bec720-fa9f-4934-b203-a6d61cb0232c"
      },
      "execution_count": null,
      "outputs": [
        {
          "output_type": "stream",
          "name": "stdout",
          "text": [
            "Intercept   -29.267548\n",
            "fuel         20.168347\n",
            "coal          0.069456\n",
            "wind         -0.307745\n",
            "dtype: float64\n"
          ]
        }
      ]
    },
    {
      "cell_type": "code",
      "source": [
        "print(fit.summary())"
      ],
      "metadata": {
        "colab": {
          "base_uri": "https://localhost:8080/"
        },
        "id": "Q21N7Ez7oykd",
        "outputId": "484fe071-2955-4a28-b24d-3be975166da9"
      },
      "execution_count": null,
      "outputs": [
        {
          "output_type": "stream",
          "name": "stdout",
          "text": [
            "                            OLS Regression Results                            \n",
            "==============================================================================\n",
            "Dep. Variable:                  power   R-squared:                       0.819\n",
            "Model:                            OLS   Adj. R-squared:                  0.815\n",
            "Method:                 Least Squares   F-statistic:                     194.3\n",
            "Date:                Fri, 09 Sep 2022   Prob (F-statistic):           1.16e-47\n",
            "Time:                        09:31:54   Log-Likelihood:                -353.45\n",
            "No. Observations:                 133   AIC:                             714.9\n",
            "Df Residuals:                     129   BIC:                             726.5\n",
            "Df Model:                           3                                         \n",
            "Covariance Type:            nonrobust                                         \n",
            "==============================================================================\n",
            "                 coef    std err          t      P>|t|      [0.025      0.975]\n",
            "------------------------------------------------------------------------------\n",
            "Intercept    -29.2675      3.210     -9.117      0.000     -35.619     -22.916\n",
            "fuel          20.1683      2.228      9.052      0.000      15.760      24.576\n",
            "coal           0.0695      0.018      3.870      0.000       0.034       0.105\n",
            "wind          -0.3077      0.128     -2.413      0.017      -0.560      -0.055\n",
            "==============================================================================\n",
            "Omnibus:                       34.708   Durbin-Watson:                   1.091\n",
            "Prob(Omnibus):                  0.000   Jarque-Bera (JB):               88.075\n",
            "Skew:                           1.011   Prob(JB):                     7.50e-20\n",
            "Kurtosis:                       6.436   Cond. No.                     1.47e+03\n",
            "==============================================================================\n",
            "\n",
            "Notes:\n",
            "[1] Standard Errors assume that the covariance matrix of the errors is correctly specified.\n",
            "[2] The condition number is large, 1.47e+03. This might indicate that there are\n",
            "strong multicollinearity or other numerical problems.\n"
          ]
        }
      ]
    },
    {
      "cell_type": "code",
      "source": [
        "print(fit.summary())"
      ],
      "metadata": {
        "colab": {
          "base_uri": "https://localhost:8080/"
        },
        "id": "22Hh3AZhtqg6",
        "outputId": "e05130c4-bf8e-4406-f514-c079d00e2774"
      },
      "execution_count": null,
      "outputs": [
        {
          "output_type": "stream",
          "name": "stdout",
          "text": [
            "                            OLS Regression Results                            \n",
            "==============================================================================\n",
            "Dep. Variable:            power_price   R-squared:                       0.362\n",
            "Model:                            OLS   Adj. R-squared:                  0.339\n",
            "Method:                 Least Squares   F-statistic:                     15.34\n",
            "Date:                Mon, 20 Jun 2022   Prob (F-statistic):           0.000551\n",
            "Time:                        21:34:57   Log-Likelihood:                -86.313\n",
            "No. Observations:                  29   AIC:                             176.6\n",
            "Df Residuals:                      27   BIC:                             179.4\n",
            "Df Model:                           1                                         \n",
            "Covariance Type:            nonrobust                                         \n",
            "==============================================================================\n",
            "                 coef    std err          t      P>|t|      [0.025      0.975]\n",
            "------------------------------------------------------------------------------\n",
            "Intercept     18.4139      2.948      6.247      0.000      12.366      24.462\n",
            "wind_speed    -1.1289      0.288     -3.917      0.001      -1.720      -0.538\n",
            "==============================================================================\n",
            "Omnibus:                        0.647   Durbin-Watson:                   0.882\n",
            "Prob(Omnibus):                  0.723   Jarque-Bera (JB):                0.171\n",
            "Skew:                           0.180   Prob(JB):                        0.918\n",
            "Kurtosis:                       3.104   Cond. No.                         33.3\n",
            "==============================================================================\n",
            "\n",
            "Warnings:\n",
            "[1] Standard Errors assume that the covariance matrix of the errors is correctly specified.\n"
          ]
        }
      ]
    }
  ],
  "metadata": {
    "colab": {
      "collapsed_sections": [],
      "provenance": []
    },
    "kernelspec": {
      "display_name": "Python 3",
      "name": "python3"
    },
    "language_info": {
      "name": "python"
    }
  },
  "nbformat": 4,
  "nbformat_minor": 0
}