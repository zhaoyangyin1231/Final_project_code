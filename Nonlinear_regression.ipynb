{
  "cells": [
    {
      "cell_type": "code",
      "execution_count": null,
      "metadata": {
        "collapsed": true,
        "id": "NCufmQALVfdD"
      },
      "outputs": [],
      "source": [
        "import numpy as np\n",
        "import matplotlib.pyplot as plt\n",
        "import pandas as pd\n",
        "from sklearn.preprocessing import PolynomialFeatures   #StandardScaler\n",
        "from sklearn.model_selection import train_test_split,cross_val_score\n",
        "from sklearn.linear_model import Lasso, Ridge, LinearRegression as LR\n",
        "from sklearn.model_selection import GridSearchCV\n",
        "from sklearn.metrics import r2_score, explained_variance_score as EVS, mean_squared_error as MSE"
      ]
    },
    {
      "cell_type": "code",
      "execution_count": null,
      "metadata": {
        "id": "MBzSLZZUVzwX"
      },
      "outputs": [],
      "source": [
        "data = pd.read_csv(\"data_final.csv\")\n",
        "x = data[['wind', 'fuel', 'coal']]\n",
        "y = data['power']"
      ]
    },
    {
      "cell_type": "code",
      "execution_count": null,
      "metadata": {
        "colab": {
          "base_uri": "https://localhost:8080/"
        },
        "id": "_4KHofdVVfdK",
        "outputId": "4997ce3f-f582-435b-e7e4-70aade8ed8d7"
      },
      "outputs": [
        {
          "data": {
            "text/plain": [
              "(106, 3)"
            ]
          },
          "execution_count": 11,
          "metadata": {},
          "output_type": "execute_result"
        }
      ],
      "source": [
        "x_train, x_test, y_train, y_test = train_test_split(x, y, test_size=0.2, random_state=1)\n",
        "x_train.shape"
      ]
    },
    {
      "cell_type": "code",
      "execution_count": null,
      "metadata": {
        "colab": {
          "base_uri": "https://localhost:8080/"
        },
        "id": "bWnEviJYVfdK",
        "outputId": "95107049-1074-4c6c-b24d-91c41cf4834a"
      },
      "outputs": [
        {
          "data": {
            "text/plain": [
              "array([ 8.28593501,  2.76301807,  5.77700501,  4.51113582,  2.80958036,\n",
              "       20.34091286,  5.78280876, -2.26314281, 21.18881897, 19.48874246,\n",
              "        4.92744993, 17.07474187, 27.09916814,  6.24637012,  5.90189598,\n",
              "        4.87786154,  5.0016045 ,  4.22393662, -2.6340794 ,  5.31710945,\n",
              "       17.36560757,  5.36566856, 12.63088038,  4.6346121 , 22.31181129,\n",
              "        2.8676401 ,  3.28903929])"
            ]
          },
          "execution_count": 12,
          "metadata": {},
          "output_type": "execute_result"
        }
      ],
      "source": [
        "reg = LR().fit(x_train, y_train)\n",
        "yhat = reg.predict(x_test)\n",
        "yhat"
      ]
    },
    {
      "cell_type": "code",
      "execution_count": null,
      "metadata": {
        "colab": {
          "background_save": true,
          "base_uri": "https://localhost:8080/"
        },
        "id": "Zw40rHHJVfdL",
        "outputId": "fad9abae-9f7e-4946-eec5-5c413eccc731"
      },
      "outputs": [
        {
          "name": "stdout",
          "output_type": "stream",
          "text": [
            "[-0.42642798 20.13158289  0.0695061 ]\n"
          ]
        }
      ],
      "source": [
        "# linear\n",
        "print(reg.coef_)\n",
        "print(reg.intercept_)\n",
        "\n",
        "\n",
        "# validation\n",
        "MSE = MSE(yhat, y_test)\n",
        "error = np.sqrt(MSE(y_test, yhat))/y_test.mean()\n",
        "cross_validation_score = -cross_val_score(reg, x,y,cv=5, scoring=\"neg_mean_squared_error\")  # scoring=\"explained_variance\"\n",
        "r2_score = r2_score(y_test, yhat)\n",
        "r2 = reg.score(x_test,y_test)\n",
        "EVS(y_test,yhat)"
      ]
    },
    {
      "cell_type": "code",
      "execution_count": null,
      "metadata": {
        "colab": {
          "base_uri": "https://localhost:8080/",
          "height": 270
        },
        "id": "QlkBoGUgVfdS",
        "outputId": "90a3ec5d-008d-4463-afdd-e1f66744e462"
      },
      "outputs": [
        {
          "data": {
            "text/html": [
              "\n",
              "  <div id=\"df-f3cf4f10-ad6d-4c4b-8ce6-3e6a8e2bf1b7\">\n",
              "    <div class=\"colab-df-container\">\n",
              "      <div>\n",
              "<style scoped>\n",
              "    .dataframe tbody tr th:only-of-type {\n",
              "        vertical-align: middle;\n",
              "    }\n",
              "\n",
              "    .dataframe tbody tr th {\n",
              "        vertical-align: top;\n",
              "    }\n",
              "\n",
              "    .dataframe thead th {\n",
              "        text-align: right;\n",
              "    }\n",
              "</style>\n",
              "<table border=\"1\" class=\"dataframe\">\n",
              "  <thead>\n",
              "    <tr style=\"text-align: right;\">\n",
              "      <th></th>\n",
              "      <th>0</th>\n",
              "      <th>1</th>\n",
              "      <th>2</th>\n",
              "      <th>3</th>\n",
              "      <th>4</th>\n",
              "      <th>5</th>\n",
              "      <th>6</th>\n",
              "      <th>7</th>\n",
              "      <th>8</th>\n",
              "      <th>9</th>\n",
              "      <th>10</th>\n",
              "      <th>11</th>\n",
              "      <th>12</th>\n",
              "      <th>13</th>\n",
              "      <th>14</th>\n",
              "      <th>15</th>\n",
              "      <th>16</th>\n",
              "      <th>17</th>\n",
              "      <th>18</th>\n",
              "    </tr>\n",
              "  </thead>\n",
              "  <tbody>\n",
              "    <tr>\n",
              "      <th>0</th>\n",
              "      <td>12.00</td>\n",
              "      <td>1.63</td>\n",
              "      <td>84.00</td>\n",
              "      <td>144.0000</td>\n",
              "      <td>19.5600</td>\n",
              "      <td>1008.0000</td>\n",
              "      <td>2.6569</td>\n",
              "      <td>136.9200</td>\n",
              "      <td>7056.0000</td>\n",
              "      <td>1728.000000</td>\n",
              "      <td>234.720000</td>\n",
              "      <td>12096.000000</td>\n",
              "      <td>31.882800</td>\n",
              "      <td>1643.040000</td>\n",
              "      <td>84672.000000</td>\n",
              "      <td>4.330747</td>\n",
              "      <td>223.179600</td>\n",
              "      <td>11501.280000</td>\n",
              "      <td>592704.000000</td>\n",
              "    </tr>\n",
              "    <tr>\n",
              "      <th>1</th>\n",
              "      <td>12.21</td>\n",
              "      <td>1.62</td>\n",
              "      <td>84.42</td>\n",
              "      <td>149.0841</td>\n",
              "      <td>19.7802</td>\n",
              "      <td>1030.7682</td>\n",
              "      <td>2.6244</td>\n",
              "      <td>136.7604</td>\n",
              "      <td>7126.7364</td>\n",
              "      <td>1820.316861</td>\n",
              "      <td>241.516242</td>\n",
              "      <td>12585.679722</td>\n",
              "      <td>32.043924</td>\n",
              "      <td>1669.844484</td>\n",
              "      <td>87017.451444</td>\n",
              "      <td>4.251528</td>\n",
              "      <td>221.551848</td>\n",
              "      <td>11545.312968</td>\n",
              "      <td>601639.086888</td>\n",
              "    </tr>\n",
              "    <tr>\n",
              "      <th>2</th>\n",
              "      <td>12.42</td>\n",
              "      <td>1.61</td>\n",
              "      <td>84.85</td>\n",
              "      <td>154.2564</td>\n",
              "      <td>19.9962</td>\n",
              "      <td>1053.8370</td>\n",
              "      <td>2.5921</td>\n",
              "      <td>136.6085</td>\n",
              "      <td>7199.5225</td>\n",
              "      <td>1915.864488</td>\n",
              "      <td>248.352804</td>\n",
              "      <td>13088.655540</td>\n",
              "      <td>32.193882</td>\n",
              "      <td>1696.677570</td>\n",
              "      <td>89418.069450</td>\n",
              "      <td>4.173281</td>\n",
              "      <td>219.939685</td>\n",
              "      <td>11591.231225</td>\n",
              "      <td>610879.484125</td>\n",
              "    </tr>\n",
              "    <tr>\n",
              "      <th>3</th>\n",
              "      <td>12.64</td>\n",
              "      <td>1.60</td>\n",
              "      <td>85.27</td>\n",
              "      <td>159.7696</td>\n",
              "      <td>20.2240</td>\n",
              "      <td>1077.8128</td>\n",
              "      <td>2.5600</td>\n",
              "      <td>136.4320</td>\n",
              "      <td>7270.9729</td>\n",
              "      <td>2019.487744</td>\n",
              "      <td>255.631360</td>\n",
              "      <td>13623.553792</td>\n",
              "      <td>32.358400</td>\n",
              "      <td>1724.500480</td>\n",
              "      <td>91905.097456</td>\n",
              "      <td>4.096000</td>\n",
              "      <td>218.291200</td>\n",
              "      <td>11633.556640</td>\n",
              "      <td>619995.859183</td>\n",
              "    </tr>\n",
              "    <tr>\n",
              "      <th>4</th>\n",
              "      <td>12.85</td>\n",
              "      <td>1.59</td>\n",
              "      <td>85.70</td>\n",
              "      <td>165.1225</td>\n",
              "      <td>20.4315</td>\n",
              "      <td>1101.2450</td>\n",
              "      <td>2.5281</td>\n",
              "      <td>136.2630</td>\n",
              "      <td>7344.4900</td>\n",
              "      <td>2121.824125</td>\n",
              "      <td>262.544775</td>\n",
              "      <td>14150.998250</td>\n",
              "      <td>32.486085</td>\n",
              "      <td>1750.979550</td>\n",
              "      <td>94376.696500</td>\n",
              "      <td>4.019679</td>\n",
              "      <td>216.658170</td>\n",
              "      <td>11677.739100</td>\n",
              "      <td>629422.793000</td>\n",
              "    </tr>\n",
              "  </tbody>\n",
              "</table>\n",
              "</div>\n",
              "      <button class=\"colab-df-convert\" onclick=\"convertToInteractive('df-f3cf4f10-ad6d-4c4b-8ce6-3e6a8e2bf1b7')\"\n",
              "              title=\"Convert this dataframe to an interactive table.\"\n",
              "              style=\"display:none;\">\n",
              "        \n",
              "  <svg xmlns=\"http://www.w3.org/2000/svg\" height=\"24px\"viewBox=\"0 0 24 24\"\n",
              "       width=\"24px\">\n",
              "    <path d=\"M0 0h24v24H0V0z\" fill=\"none\"/>\n",
              "    <path d=\"M18.56 5.44l.94 2.06.94-2.06 2.06-.94-2.06-.94-.94-2.06-.94 2.06-2.06.94zm-11 1L8.5 8.5l.94-2.06 2.06-.94-2.06-.94L8.5 2.5l-.94 2.06-2.06.94zm10 10l.94 2.06.94-2.06 2.06-.94-2.06-.94-.94-2.06-.94 2.06-2.06.94z\"/><path d=\"M17.41 7.96l-1.37-1.37c-.4-.4-.92-.59-1.43-.59-.52 0-1.04.2-1.43.59L10.3 9.45l-7.72 7.72c-.78.78-.78 2.05 0 2.83L4 21.41c.39.39.9.59 1.41.59.51 0 1.02-.2 1.41-.59l7.78-7.78 2.81-2.81c.8-.78.8-2.07 0-2.86zM5.41 20L4 18.59l7.72-7.72 1.47 1.35L5.41 20z\"/>\n",
              "  </svg>\n",
              "      </button>\n",
              "      \n",
              "  <style>\n",
              "    .colab-df-container {\n",
              "      display:flex;\n",
              "      flex-wrap:wrap;\n",
              "      gap: 12px;\n",
              "    }\n",
              "\n",
              "    .colab-df-convert {\n",
              "      background-color: #E8F0FE;\n",
              "      border: none;\n",
              "      border-radius: 50%;\n",
              "      cursor: pointer;\n",
              "      display: none;\n",
              "      fill: #1967D2;\n",
              "      height: 32px;\n",
              "      padding: 0 0 0 0;\n",
              "      width: 32px;\n",
              "    }\n",
              "\n",
              "    .colab-df-convert:hover {\n",
              "      background-color: #E2EBFA;\n",
              "      box-shadow: 0px 1px 2px rgba(60, 64, 67, 0.3), 0px 1px 3px 1px rgba(60, 64, 67, 0.15);\n",
              "      fill: #174EA6;\n",
              "    }\n",
              "\n",
              "    [theme=dark] .colab-df-convert {\n",
              "      background-color: #3B4455;\n",
              "      fill: #D2E3FC;\n",
              "    }\n",
              "\n",
              "    [theme=dark] .colab-df-convert:hover {\n",
              "      background-color: #434B5C;\n",
              "      box-shadow: 0px 1px 3px 1px rgba(0, 0, 0, 0.15);\n",
              "      filter: drop-shadow(0px 1px 2px rgba(0, 0, 0, 0.3));\n",
              "      fill: #FFFFFF;\n",
              "    }\n",
              "  </style>\n",
              "\n",
              "      <script>\n",
              "        const buttonEl =\n",
              "          document.querySelector('#df-f3cf4f10-ad6d-4c4b-8ce6-3e6a8e2bf1b7 button.colab-df-convert');\n",
              "        buttonEl.style.display =\n",
              "          google.colab.kernel.accessAllowed ? 'block' : 'none';\n",
              "\n",
              "        async function convertToInteractive(key) {\n",
              "          const element = document.querySelector('#df-f3cf4f10-ad6d-4c4b-8ce6-3e6a8e2bf1b7');\n",
              "          const dataTable =\n",
              "            await google.colab.kernel.invokeFunction('convertToInteractive',\n",
              "                                                     [key], {});\n",
              "          if (!dataTable) return;\n",
              "\n",
              "          const docLinkHtml = 'Like what you see? Visit the ' +\n",
              "            '<a target=\"_blank\" href=https://colab.research.google.com/notebooks/data_table.ipynb>data table notebook</a>'\n",
              "            + ' to learn more about interactive tables.';\n",
              "          element.innerHTML = '';\n",
              "          dataTable['output_type'] = 'display_data';\n",
              "          await google.colab.output.renderOutput(dataTable, element);\n",
              "          const docLink = document.createElement('div');\n",
              "          docLink.innerHTML = docLinkHtml;\n",
              "          element.appendChild(docLink);\n",
              "        }\n",
              "      </script>\n",
              "    </div>\n",
              "  </div>\n",
              "  "
            ],
            "text/plain": [
              "      0     1      2         3        4          5       6         7   \\\n",
              "0  12.00  1.63  84.00  144.0000  19.5600  1008.0000  2.6569  136.9200   \n",
              "1  12.21  1.62  84.42  149.0841  19.7802  1030.7682  2.6244  136.7604   \n",
              "2  12.42  1.61  84.85  154.2564  19.9962  1053.8370  2.5921  136.6085   \n",
              "3  12.64  1.60  85.27  159.7696  20.2240  1077.8128  2.5600  136.4320   \n",
              "4  12.85  1.59  85.70  165.1225  20.4315  1101.2450  2.5281  136.2630   \n",
              "\n",
              "          8            9           10            11         12           13  \\\n",
              "0  7056.0000  1728.000000  234.720000  12096.000000  31.882800  1643.040000   \n",
              "1  7126.7364  1820.316861  241.516242  12585.679722  32.043924  1669.844484   \n",
              "2  7199.5225  1915.864488  248.352804  13088.655540  32.193882  1696.677570   \n",
              "3  7270.9729  2019.487744  255.631360  13623.553792  32.358400  1724.500480   \n",
              "4  7344.4900  2121.824125  262.544775  14150.998250  32.486085  1750.979550   \n",
              "\n",
              "             14        15          16            17             18  \n",
              "0  84672.000000  4.330747  223.179600  11501.280000  592704.000000  \n",
              "1  87017.451444  4.251528  221.551848  11545.312968  601639.086888  \n",
              "2  89418.069450  4.173281  219.939685  11591.231225  610879.484125  \n",
              "3  91905.097456  4.096000  218.291200  11633.556640  619995.859183  \n",
              "4  94376.696500  4.019679  216.658170  11677.739100  629422.793000  "
            ]
          },
          "execution_count": 88,
          "metadata": {},
          "output_type": "execute_result"
        }
      ],
      "source": [
        "# non linear regression\n",
        "def non_linear(n):\n",
        "  \n",
        "  po = PolynomialFeatures(degree=n, interaction_only=False, include_bias=False)\n",
        "  x_poly = po.fit_transform(x)\n",
        "  pd.DataFrame(x_poly).head()\n",
        "\n",
        "  x_poly = pd.DataFrame(x_poly)\n",
        "  x_poly.head()\n",
        "  x_train2, x_test2, y_train2, y_test2 = train_test_split(x_poly, y, test_size=0.2, random_state=1)\n",
        "  reg2 = LR().fit(x_train2, y_train2)\n",
        "  yhat2 = reg2.predict(x_test2)\n",
        "  print(yhat2)\n",
        "  print(reg2.coef_)\n",
        "  print(reg2.intercept_)\n",
        "  # evaluation\n",
        "  MSE = MSE(y_test2,yhat2)\n",
        "  r2 = reg2.score(x_test,y_test)\n",
        "  error = np.sqrt(MSE(y_test2,yhat2))/y_test2.mean()\n",
        "  cross_validation_score = cross_val_score(reg,x_poly,y, cv=5,scoring=\"r2\").mean()\n",
        "  # cross_val_score(reg,x_poly,y, cv=5,scoring=\"explained_variance\").mean()\n",
        "\n",
        "  return MSE, r2, error, cross_validation_score"
      ]
    },
    {
      "cell_type": "code",
      "execution_count": 3,
      "metadata": {
        "id": "n-MqPxnKVfdT"
      },
      "outputs": [],
      "source": [
        "err = []\n",
        "for n in range(0,7):\n",
        "  MSE, r2, error, cross_validation_score = non_linear(n)\n",
        "  err = err + MSE\n",
        "\n",
        "err"
      ]
    },
    {
      "cell_type": "code",
      "execution_count": null,
      "metadata": {
        "colab": {
          "base_uri": "https://localhost:8080/"
        },
        "id": "Fx7nNgUxVfdV",
        "outputId": "0cdd37a8-4a55-4221-afad-475eef34ec3a"
      },
      "outputs": [
        {
          "name": "stdout",
          "output_type": "stream",
          "text": [
            "最优参数：\n",
            " {'alpha': 27.825594022071257}\n"
          ]
        }
      ],
      "source": [
        "# lasso model for best params, please ignore\n",
        "\n",
        "model = Lasso()\n",
        "# model = Ridge()\n",
        "\n",
        "alpha_can = np.logspace(-3, 2, 10) \n",
        "lasso_model = GridSearchCV(model, param_grid={'alpha': alpha_can}, cv=5)   #实例化\n",
        "lasso_model.fit(x, y)                                          #使用训练数据训练模型\n",
        "print ('最优参数\\n', lasso_model.best_params_)                             #最有参数"
      ]
    },
    {
      "cell_type": "code",
      "execution_count": null,
      "metadata": {
        "colab": {
          "base_uri": "https://localhost:8080/"
        },
        "id": "WqBMg8J2VfdV",
        "outputId": "ec4b379f-25a8-4983-d448-be1de48be802"
      },
      "outputs": [
        {
          "name": "stdout",
          "output_type": "stream",
          "text": [
            "mse:15.455788891015512\n",
            "rmse:3.9313851110029288\n"
          ]
        },
        {
          "name": "stderr",
          "output_type": "stream",
          "text": [
            "/usr/local/lib/python3.7/dist-packages/sklearn/base.py:451: UserWarning: X does not have valid feature names, but Lasso was fitted with feature names\n",
            "  \"X does not have valid feature names, but\"\n"
          ]
        }
      ],
      "source": [
        "y_hat = lasso_model.predict(np.array(x_test))\n",
        "mse = np.average((y_hat - np.array(y_test)) ** 2)  # Mean Squared Error\n",
        "rmse = np.sqrt(mse)                                # Root Mean Squared Error\n",
        "print ('mse:%s'%mse)\n",
        "print ('rmse:%s'%rmse)"
      ]
    },
    {
      "cell_type": "code",
      "execution_count": null,
      "metadata": {
        "colab": {
          "background_save": true,
          "base_uri": "https://localhost:8080/",
          "height": 281
        },
        "id": "RkfOjzgyVfdV",
        "outputId": "b17ce06a-cdc3-4dea-c924-fd841bd17ced"
      },
      "outputs": [
        {
          "data": {
            "image/png": "[encoded data removed]",
            "text/plain": [
              "<Figure size 432x288 with 1 Axes>"
            ]
          },
          "metadata": {},
          "output_type": "display_data"
        }
      ],
      "source": [
        "# visualization\n",
        "t = np.arange(len(x_test))\n",
        "plt.plot(t, y_test, 'r-', linewidth=2, label='Actual')\n",
        "plt.plot(t, y_hat, 'g-', linewidth=2, label='Predicted')\n",
        "plt.title('Actual test y & Predicted test y')\n",
        "plt.legend(loc='upper right')\n",
        "plt.grid()\n",
        "plt.show()"
      ]
    },
    {
      "cell_type": "code",
      "execution_count": null,
      "metadata": {
        "collapsed": true,
        "id": "Zo0MSGX6VfdW"
      },
      "outputs": [],
      "source": []
    }
  ],
  "metadata": {
    "colab": {
      "collapsed_sections": [],
      "provenance": []
    },
    "kernelspec": {
      "display_name": "Python 3",
      "language": "python",
      "name": "python3"
    },
    "language_info": {
      "codemirror_mode": {
        "name": "ipython",
        "version": 3
      },
      "file_extension": ".py",
      "mimetype": "text/x-python",
      "name": "python",
      "nbconvert_exporter": "python",
      "pygments_lexer": "ipython3",
      "version": "3.6.1"
    },
    "toc": {
      "base_numbering": 1,
      "nav_menu": {},
      "number_sections": true,
      "sideBar": true,
      "skip_h1_title": false,
      "title_cell": "Table of Contents",
      "title_sidebar": "Contents",
      "toc_cell": false,
      "toc_position": {},
      "toc_section_display": true,
      "toc_window_display": false
    }
  },
  "nbformat": 4,
  "nbformat_minor": 0
}