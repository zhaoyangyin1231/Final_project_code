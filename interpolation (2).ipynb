{
  "cells": [
    {
      "cell_type": "code",
      "execution_count": null,
      "metadata": {
        "id": "UOxqzUqBbxnM"
      },
      "outputs": [],
      "source": [
        "\n",
        "import re\n",
        "import pandas as pd \n",
        "import numpy as np \n",
        "import matplotlib.pyplot as plt \n",
        "import seaborn as sns\n",
        "import string\n",
        "import nltk\n",
        "from wordcloud import WordCloud\n",
        "\n",
        "from sklearn.linear_model import LogisticRegression\n",
        "from sklearn.model_selection import train_test_split\n",
        "from sklearn.metrics import f1_score\n",
        "from sklearn.metrics import classification_report\n",
        "from sklearn.feature_extraction.text import TfidfVectorizer\n",
        "from sklearn.feature_extraction.text import TfidfTransformer\n",
        "from sklearn.feature_extraction.text import CountVectorizer\n",
        "from scipy.sparse import coo_matrix\n",
        "\n",
        "from sklearn.metrics import classification_report\n",
        "from sklearn.linear_model import LogisticRegression\n",
        "from sklearn.ensemble import RandomForestClassifier\n",
        "from sklearn.tree import DecisionTreeClassifier\n",
        "from sklearn import svm\n",
        "from sklearn import neighbors\n",
        "from sklearn.naive_bayes import MultinomialNB"
      ]
    },
    {
      "cell_type": "code",
      "execution_count": null,
      "metadata": {
        "id": "tRys_uOHb0XC"
      },
      "outputs": [],
      "source": [
        "df = pd.read_csv(\"data_row.csv\")"
      ]
    },
    {
      "cell_type": "code",
      "source": [
        "# load data \n",
        "\n",
        "# detect and deal with outlier\n",
        "\n",
        "outlier_dataset = np.array(df[\"fuel_price(TEUR)\"])  # type=numpy.ndarray len=38\n",
        "outlier_date = np.array(df[\"Date\"])\n",
        "outlier_date_time = [datestr2num(i) for i in outlier_date]\n",
        "outlier_date_time = np.array(outlier_date_time)\n",
        "ourlier_x = np.linspace(0,28,num=29) \n",
        "\n",
        "# box plot - find out outliers for volume data\n",
        "sns.boxplot(outlier_dataset)\n",
        "plt.xlabel(r'Volume')\n",
        "plt.show()\n",
        "\n",
        "y = list(df[\"gas\"])     #0~10等差插入11个数，需要预测的值\n",
        "y[27] = 2.2\n",
        "x = np.linspace(0,28,num=29) \n",
        "# print(x[27])\n",
        "# print(y[27])\n",
        "plt.plot(x,y,'ro')\n",
        "plt.plot(x1, y1, \"bo\")\n",
        "plt.xlabel(\"point\")\n",
        "plt.ylabel(\"fuel_price(TEUR)\")"
      ],
      "metadata": {
        "colab": {
          "base_uri": "https://localhost:8080/",
          "height": 650
        },
        "id": "g-gpSB6ZH8u9",
        "outputId": "5f7682d7-b39a-421a-fc6a-372d5f7ec5dc"
      },
      "execution_count": null,
      "outputs": [
        {
          "output_type": "stream",
          "name": "stderr",
          "text": [
            "/usr/local/lib/python3.7/dist-packages/seaborn/_decorators.py:43: FutureWarning: Pass the following variable as a keyword arg: x. From version 0.12, the only valid positional argument will be `data`, and passing other arguments without an explicit keyword will result in an error or misinterpretation.\n",
            "  FutureWarning\n"
          ]
        },
        {
          "output_type": "display_data",
          "data": {
            "text/plain": [
              "<Figure size 432x288 with 1 Axes>"
            ],
            "image/png": "[encoded data removed]"
          },
          "metadata": {
            "needs_background": "light"
          }
        },
        {
          "output_type": "stream",
          "name": "stdout",
          "text": [
            "27.0\n",
            "2.2\n"
          ]
        },
        {
          "output_type": "execute_result",
          "data": {
            "text/plain": [
              "Text(0, 0.5, 'fuel_price(TEUR)')"
            ]
          },
          "metadata": {},
          "execution_count": 11
        },
        {
          "output_type": "display_data",
          "data": {
            "text/plain": [
              "<Figure size 432x288 with 1 Axes>"
            ],
            "image/png": "[encoded data removed]"
          },
          "metadata": {
            "needs_background": "light"
          }
        }
      ]
    },
    {
      "cell_type": "code",
      "source": [
        "f1 = scipy.interpolate.interp1d(x,y,kind='linear')\n",
        "f2 = scipy.interpolate.interp1d(x,y,kind='cubic')    \n",
        "\n",
        "x_pred = np.linspace(0,28,num=133) \n",
        "# y = list(df[\"wind_speed\"])  \n",
        "y1 = f1(x_pred)\n",
        "# y2 = f2(x_pred)\n",
        "# print(y2)\n",
        "# plt.figure()\n",
        "plt.plot(x,y,'ro')\n",
        "plt.xlabel(\"point\")\n",
        "plt.ylabel(\"Natual Gas Price (USD/Liter\")\n",
        "# plt.ylabel(\"fuel_price(TEUR)\")\n",
        "plt.plot(x_pred, y1, \"-bx\", label=\"linear\")\n",
        "# plt.plot(x_pred, y2, \"-rx\", label=\"cubic\")\n",
        "print(y1)\n",
        "# lsttt4 = y1"
      ],
      "metadata": {
        "colab": {
          "base_uri": "https://localhost:8080/",
          "height": 690
        },
        "id": "NkyMXAhB9YFA",
        "outputId": "b064c65e-61ae-4c6f-9674-84691632f72b"
      },
      "execution_count": null,
      "outputs": [
        {
          "output_type": "stream",
          "name": "stdout",
          "text": [
            "[1.9        1.88939394 1.87878788 1.86818182 1.85757576 1.84272727\n",
            " 1.81727273 1.79181818 1.76636364 1.74090909 1.71424242 1.68666667\n",
            " 1.65909091 1.63151515 1.60393939 1.58181818 1.56060606 1.53939394\n",
            " 1.51818182 1.5030303  1.52424242 1.54545455 1.56666667 1.58787879\n",
            " 1.60818182 1.62727273 1.64636364 1.66545455 1.68454545 1.70666667\n",
            " 1.73       1.75333333 1.77666667 1.8        1.80636364 1.81272727\n",
            " 1.81909091 1.82545455 1.8269697  1.81636364 1.80575758 1.79515152\n",
            " 1.78454545 1.77636364 1.77       1.76363636 1.75727273 1.75090909\n",
            " 1.75909091 1.76969697 1.78030303 1.79090909 1.8030303  1.82424242\n",
            " 1.84545455 1.86666667 1.88787879 1.90454545 1.91515152 1.92575758\n",
            " 1.93636364 1.9469697  1.95454545 1.96090909 1.96727273 1.97363636\n",
            " 1.98       1.98424242 1.98848485 1.99272727 1.9969697  2.0030303\n",
            " 2.01363636 2.02424242 2.03484848 2.04545455 2.04878788 2.04666667\n",
            " 2.04454545 2.04242424 2.04030303 2.03454545 2.02818182 2.02181818\n",
            " 2.01545455 2.01272727 2.03181818 2.05090909 2.07       2.08909091\n",
            " 2.10272727 2.10909091 2.11545455 2.12181818 2.12818182 2.14060606\n",
            " 2.15545455 2.17030303 2.18515152 2.2        2.17878788 2.15757576\n",
            " 2.13636364 2.11515152 2.10181818 2.10818182 2.11454545 2.12090909\n",
            " 2.12727273 2.13727273 2.15       2.16272727 2.17545455 2.18818182\n",
            " 2.20090909 2.21363636 2.22636364 2.23909091 2.25454545 2.28636364\n",
            " 2.31818182 2.35       2.38181818 2.38181818 2.33939394 2.2969697\n",
            " 2.25454545 2.21212121 2.22272727 2.25454545 2.28636364 2.31818182\n",
            " 2.35      ]\n"
          ]
        },
        {
          "output_type": "display_data",
          "data": {
            "text/plain": [
              "<Figure size 432x288 with 1 Axes>"
            ],
            "image/png": "[encoded data removed]"
          },
          "metadata": {
            "needs_background": "light"
          }
        }
      ]
    },
    {
      "cell_type": "code",
      "source": [
        "len(lsttt4)\n",
        "lsttt4"
      ],
      "metadata": {
        "colab": {
          "base_uri": "https://localhost:8080/"
        },
        "id": "_Rd15CFQpOx4",
        "outputId": "1a09d30c-509c-4b13-dcf6-bb8981afdf2d"
      },
      "execution_count": null,
      "outputs": [
        {
          "output_type": "execute_result",
          "data": {
            "text/plain": [
              "array([1.9       , 1.88939394, 1.87878788, 1.86818182, 1.85757576,\n",
              "       1.84272727, 1.81727273, 1.79181818, 1.76636364, 1.74090909,\n",
              "       1.71424242, 1.68666667, 1.65909091, 1.63151515, 1.60393939,\n",
              "       1.58181818, 1.56060606, 1.53939394, 1.51818182, 1.5030303 ,\n",
              "       1.52424242, 1.54545455, 1.56666667, 1.58787879, 1.60818182,\n",
              "       1.62727273, 1.64636364, 1.66545455, 1.68454545, 1.70666667,\n",
              "       1.73      , 1.75333333, 1.77666667, 1.8       , 1.80636364,\n",
              "       1.81272727, 1.81909091, 1.82545455, 1.8269697 , 1.81636364,\n",
              "       1.80575758, 1.79515152, 1.78454545, 1.77636364, 1.77      ,\n",
              "       1.76363636, 1.75727273, 1.75090909, 1.75909091, 1.76969697,\n",
              "       1.78030303, 1.79090909, 1.8030303 , 1.82424242, 1.84545455,\n",
              "       1.86666667, 1.88787879, 1.90454545, 1.91515152, 1.92575758,\n",
              "       1.93636364, 1.9469697 , 1.95454545, 1.96090909, 1.96727273,\n",
              "       1.97363636, 1.98      , 1.98424242, 1.98848485, 1.99272727,\n",
              "       1.9969697 , 2.0030303 , 2.01363636, 2.02424242, 2.03484848,\n",
              "       2.04545455, 2.04878788, 2.04666667, 2.04454545, 2.04242424,\n",
              "       2.04030303, 2.03454545, 2.02818182, 2.02181818, 2.01545455,\n",
              "       2.01272727, 2.03181818, 2.05090909, 2.07      , 2.08909091,\n",
              "       2.10272727, 2.10909091, 2.11545455, 2.12181818, 2.12818182,\n",
              "       2.14060606, 2.15545455, 2.17030303, 2.18515152, 2.2       ,\n",
              "       2.17878788, 2.15757576, 2.13636364, 2.11515152, 2.10181818,\n",
              "       2.10818182, 2.11454545, 2.12090909, 2.12727273, 2.13727273,\n",
              "       2.15      , 2.16272727, 2.17545455, 2.18818182, 2.20090909,\n",
              "       2.21363636, 2.22636364, 2.23909091, 2.25454545, 2.28636364,\n",
              "       2.31818182, 2.35      , 2.38181818, 2.38181818, 2.33939394,\n",
              "       2.2969697 , 2.25454545, 2.21212121, 2.22272727, 2.25454545,\n",
              "       2.28636364, 2.31818182, 2.35      ])"
            ]
          },
          "metadata": {},
          "execution_count": 14
        }
      ]
    }
  ],
  "metadata": {
    "colab": {
      "collapsed_sections": [],
      "provenance": []
    },
    "kernelspec": {
      "display_name": "Python 3",
      "name": "python3"
    },
    "language_info": {
      "name": "python"
    }
  },
  "nbformat": 4,
  "nbformat_minor": 0
}